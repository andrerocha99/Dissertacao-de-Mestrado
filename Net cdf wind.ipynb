{
 "cells": [
  {
   "cell_type": "code",
   "execution_count": 47,
   "id": "9fa998a4-2a28-4a1f-adcb-2425179572b7",
   "metadata": {},
   "outputs": [],
   "source": [
    "# Este ficheiro diz respeito ao vento na zona\n",
    "from netCDF4 import Dataset, num2date\n",
    "\n",
    "import numpy as np\n",
    "\n",
    "import pandas as pd\n",
    "\n",
    "from datetime import datetime, timedelta"
   ]
  },
  {
   "cell_type": "code",
   "execution_count": 48,
   "id": "6f3923ef-ab8c-4f3f-8075-91877f2ee95a",
   "metadata": {},
   "outputs": [],
   "source": [
    "#ler o ficheiro netcdf\n",
    "file1 = r'C:\\Users\\35192\\Desktop\\CERSAT-GLO-REP_WIND_L4-OBS_FULL_TIME_SERIE_1634566865410.nc'\n",
    "\n",
    "#ler a base de dados \n",
    "file2 = r'C:\\Users\\35192\\Desktop\\Tese\\Criar Base de Dados\\Base_Dados.csv'"
   ]
  },
  {
   "cell_type": "code",
   "execution_count": 49,
   "id": "4c35b8fb-6398-45af-be95-bb24e39bd8a8",
   "metadata": {},
   "outputs": [],
   "source": [
    "data1 = Dataset(file1, mode='r')"
   ]
  },
  {
   "cell_type": "code",
   "execution_count": 50,
   "id": "0701c050-e6d2-44d3-8155-5b8fecdee4f1",
   "metadata": {},
   "outputs": [
    {
     "name": "stdout",
     "output_type": "stream",
     "text": [
      "['wind_speed_std', 'time', 'depth', 'latitude', 'longitude', 'wind_speed_rms', 'wind_speed']\n"
     ]
    }
   ],
   "source": [
    "#reproduzir as variáveis que estão contidas no ficheiro netcdf\n",
    "variables = list(data1.variables)\n",
    "\n",
    "print(variables)"
   ]
  },
  {
   "cell_type": "code",
   "execution_count": 51,
   "id": "26e83257-6bee-476b-895f-2ebaeb4686e4",
   "metadata": {},
   "outputs": [
    {
     "name": "stdout",
     "output_type": "stream",
     "text": [
      "<class 'netCDF4._netCDF4.Variable'>\n",
      "int32 time(time)\n",
      "    long_name: time\n",
      "    units: hours since 1900-01-01 00:00:00.0 00:00\n",
      "    valid_min: 1051164.0\n",
      "    valid_max: 1051164.0\n",
      "    axis: T\n",
      "    standard_name: time\n",
      "    calendar: gregorian\n",
      "    _CoordinateAxisType: Time\n",
      "unlimited dimensions: \n",
      "current shape = (130,)\n",
      "filling on, default _FillValue of -2147483647 used\n"
     ]
    }
   ],
   "source": [
    "data2 = pd.read_csv(file2)\n",
    "\n",
    "#aceder aos dados da base de dados que contêm a variável 'time'\n",
    "print(data1.variables['time'])"
   ]
  },
  {
   "cell_type": "code",
   "execution_count": 58,
   "id": "395754ec-e84d-4a2e-a254-4d091c3d505a",
   "metadata": {},
   "outputs": [],
   "source": [
    "# calendar: gregorian, units: hours since 1900-01-01 00:00:00.0 00:00\n",
    "\n",
    " \n",
    "\n",
    "time1 = data1.variables['time'][:].data #saber de todas as datas\n",
    "\n",
    " \n",
    "\n",
    "time_modif = num2date(time1,\n",
    "\n",
    "                        units = 'hours since 1900-01-01 00:00:00.0 00:00',\n",
    "\n",
    "                        calendar = 'gregorian') # como modificar de numérico para data gregorian"
   ]
  },
  {
   "cell_type": "code",
   "execution_count": 59,
   "id": "cfe96d42-ca6e-4485-8170-045032894776",
   "metadata": {},
   "outputs": [],
   "source": [
    "date1 = []\n",
    "\n",
    " \n",
    "\n",
    "for i in range(len(time_modif)): # mudar para datetime\n",
    "\n",
    "    b = time_modif[i]\n",
    "\n",
    "    reg = datetime(b.year,b.month,b.day,b.hour)\n",
    "\n",
    "    date1.append(reg)"
   ]
  },
  {
   "cell_type": "code",
   "execution_count": 60,
   "id": "c12dd616-a203-46fd-9675-7bb9353f7d63",
   "metadata": {},
   "outputs": [],
   "source": [
    "\n",
    "latitude1 = data1.variables['latitude'][:].data # guardar todas as latitudes\n",
    "\n",
    "longitude1 = data1.variables['longitude'][:].data # guardar todas as longitudes\n",
    "\n",
    " \n",
    "\n",
    "latitude2 = data2.lat_d\n",
    "\n",
    "longitude2 = data2.lon_d"
   ]
  },
  {
   "cell_type": "code",
   "execution_count": 61,
   "id": "2ddf1c89-aba9-4622-bc67-fd9c59971f4f",
   "metadata": {},
   "outputs": [],
   "source": [
    "# como as latitudes e longitude não coincidem convem ter um aproximador\n",
    "def nearest_local(local,coordinates_data):\n",
    "    distance_to_local = np.sqrt(np.square(coordinates_data-local).sum(axis=1))\n",
    "    ind_local = np.argmin(distance_to_local)\n",
    "    return ind_local, coordinates_data[ind_local]\n",
    " "
   ]
  },
  {
   "cell_type": "code",
   "execution_count": 62,
   "id": "7c02bef7-f24b-4fc7-a30f-c5e0482b5e35",
   "metadata": {},
   "outputs": [],
   "source": [
    "local = [latitude2[0],longitude2[0]]"
   ]
  },
  {
   "cell_type": "code",
   "execution_count": 93,
   "id": "fb275c86-ccec-4f45-8a74-ba1419aa1793",
   "metadata": {},
   "outputs": [
    {
     "name": "stdout",
     "output_type": "stream",
     "text": [
      "[-4.75, 11.783333333333]\n",
      "(13319, array([-4.875, 11.875], dtype=float32))\n"
     ]
    },
    {
     "data": {
      "text/plain": [
       "[-4.75, 11.783333333333]"
      ]
     },
     "execution_count": 93,
     "metadata": {},
     "output_type": "execute_result"
    }
   ],
   "source": [
    "coordinates_data1 = np.array(np.meshgrid(latitude1,longitude1)).T.reshape(-1,2)\n",
    "\n",
    " \n",
    "\n",
    "print(local)\n",
    "\n",
    "print(nearest_local(local,coordinates_data1))"
   ]
  },
  {
   "cell_type": "code",
   "execution_count": 96,
   "id": "3c12d89b-3090-4c1b-bdb0-3f23afded0e3",
   "metadata": {},
   "outputs": [],
   "source": []
  },
  {
   "cell_type": "code",
   "execution_count": 72,
   "id": "4a83a076-4e3e-4631-998c-b52d4bf1e8d6",
   "metadata": {},
   "outputs": [
    {
     "data": {
      "text/plain": [
       "'hours since 1900-01-01 00:00:00.0 00:00'"
      ]
     },
     "execution_count": 72,
     "metadata": {},
     "output_type": "execute_result"
    }
   ],
   "source": [
    "data1.variables['time'].units"
   ]
  },
  {
   "cell_type": "code",
   "execution_count": 75,
   "id": "7e203a53-8c99-40fe-aff2-02bb8de1ef27",
   "metadata": {},
   "outputs": [
    {
     "data": {
      "text/plain": [
       "'1900-01-01'"
      ]
     },
     "execution_count": 75,
     "metadata": {},
     "output_type": "execute_result"
    }
   ],
   "source": [
    "data1.variables['time'].units[12:22] #extrair as datas diretamente do netcdf file"
   ]
  },
  {
   "cell_type": "code",
   "execution_count": 76,
   "id": "060e3f3c-2671-422d-b4de-9dc72b77cec3",
   "metadata": {},
   "outputs": [],
   "source": [
    "starting_date = data1.variables['time'].units[12:22]"
   ]
  },
  {
   "cell_type": "code",
   "execution_count": 86,
   "id": "175c99e7-64ba-4dab-b5b5-19a1e5456368",
   "metadata": {},
   "outputs": [
    {
     "data": {
      "text/plain": [
       "'1900-12-31'"
      ]
     },
     "execution_count": 86,
     "metadata": {},
     "output_type": "execute_result"
    }
   ],
   "source": [
    "ending_date = data1.variables['time'].units[12:16] + '-12-31'"
   ]
  },
  {
   "cell_type": "code",
   "execution_count": 87,
   "id": "359135b3-1484-4ca1-b9db-30d7a1da7d66",
   "metadata": {},
   "outputs": [],
   "source": [
    "date_range = pd.date_range(start = starting_date, end = ending_date)"
   ]
  },
  {
   "cell_type": "code",
   "execution_count": 88,
   "id": "29b6810b-5a36-411f-97e2-81f4da4ed472",
   "metadata": {},
   "outputs": [],
   "source": [
    "df = pd.DataFrame(0, columns = ['wind_speed'], index = date_range)"
   ]
  },
  {
   "cell_type": "code",
   "execution_count": 90,
   "id": "5c2b1ba3-db15-4a2a-ab3d-60d6abc8b56e",
   "metadata": {},
   "outputs": [
    {
     "data": {
      "text/plain": [
       "<class 'netCDF4._netCDF4.Variable'>\n",
       "int32 time(time)\n",
       "    long_name: time\n",
       "    units: hours since 1900-01-01 00:00:00.0 00:00\n",
       "    valid_min: 1051164.0\n",
       "    valid_max: 1051164.0\n",
       "    axis: T\n",
       "    standard_name: time\n",
       "    calendar: gregorian\n",
       "    _CoordinateAxisType: Time\n",
       "unlimited dimensions: \n",
       "current shape = (130,)\n",
       "filling on, default _FillValue of -2147483647 used"
      ]
     },
     "execution_count": 90,
     "metadata": {},
     "output_type": "execute_result"
    }
   ],
   "source": [
    "data1.variables['time']"
   ]
  },
  {
   "cell_type": "code",
   "execution_count": 92,
   "id": "e118b335-a337-41a7-a968-6990df1e7f0f",
   "metadata": {},
   "outputs": [],
   "source": [
    "dt = np.arange(0,data1.variables['time'].size)"
   ]
  },
  {
   "cell_type": "code",
   "execution_count": null,
   "id": "288be469-b9fa-4666-bd53-774c40eceea7",
   "metadata": {},
   "outputs": [],
   "source": [
    "for time_index in dt:\n",
    "    df.iloc[time_index] = wind[time_index,"
   ]
  }
 ],
 "metadata": {
  "kernelspec": {
   "display_name": "Python 3 (ipykernel)",
   "language": "python",
   "name": "python3"
  },
  "language_info": {
   "codemirror_mode": {
    "name": "ipython",
    "version": 3
   },
   "file_extension": ".py",
   "mimetype": "text/x-python",
   "name": "python",
   "nbconvert_exporter": "python",
   "pygments_lexer": "ipython3",
   "version": "3.8.8"
  }
 },
 "nbformat": 4,
 "nbformat_minor": 5
}
