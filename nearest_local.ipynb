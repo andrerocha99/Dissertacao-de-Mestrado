{
 "cells": [
  {
   "cell_type": "code",
   "execution_count": 2,
   "id": "3d30a2ba-9f9d-4cda-a84b-3a67ad7bc2fd",
   "metadata": {},
   "outputs": [],
   "source": [
    "import numpy as np\n",
    "\n",
    "def nearest_local(local,coordinates_data):\n",
    "    distance_to_local = np.sqrt(np.square(coordinates_data-local).sum(axis=1))\n",
    "    ind_local = np.argmin(distance_to_local)\n",
    "    return ind_local, coordinates_data[ind_local]"
   ]
  },
  {
   "cell_type": "code",
   "execution_count": null,
   "id": "02164204-2fb5-447d-96c4-3ef21f56b52a",
   "metadata": {},
   "outputs": [],
   "source": []
  }
 ],
 "metadata": {
  "kernelspec": {
   "display_name": "Python 3 (ipykernel)",
   "language": "python",
   "name": "python3"
  },
  "language_info": {
   "codemirror_mode": {
    "name": "ipython",
    "version": 3
   },
   "file_extension": ".py",
   "mimetype": "text/x-python",
   "name": "python",
   "nbconvert_exporter": "python",
   "pygments_lexer": "ipython3",
   "version": "3.9.7"
  }
 },
 "nbformat": 4,
 "nbformat_minor": 5
}
